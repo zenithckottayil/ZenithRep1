{
 "cells": [
  {
   "cell_type": "code",
   "execution_count": null,
   "metadata": {},
   "outputs": [],
   "source": [
    "#Question No:-1.Explain types of distributions with example.\n",
    "\n",
    "1.Normal Distribution(Guassian-Distribution)\n",
    "2.Standard Normal Distribution(Z-Distribution)\n",
    "3.Binomial Distribution\n",
    "\n",
    "\n",
    "   1. Normal Distribution:-                    \n",
    "                            a)Symmetric Distribution:-\n",
    "            \n",
    "                                In Symmetric distribution the mean ,median \n",
    "                                and mode will be equal.The curve of the distribution is bell-shaped\n",
    "                                The two halfves in the right and the left of the centre are equal\n",
    "                                or symmetric in nature\n",
    "                            \n",
    "                            b)Right Skewed Normal Distribution:-\n",
    "                                \n",
    "                                In Right Skewed NormalDistribution\n",
    "                                the distribution curve is Right Skewed.\n",
    "                                \n",
    "                                eg:-In a large scale company the salary(x axis) vs Designation(y axis)\n",
    "                                    as the salary increases the no of employees ie the designation\n",
    "                                    decreases.This is Right Skewed.\n",
    "                                    \n",
    "                            c)Left Skewed Normal Distibution:-\n",
    "                                \n",
    "                                In Left Skewed NormalDistribution\n",
    "                                the distribution curve is Left Skewed.\n",
    "                                \n",
    "                                eg:-In a small scale Industry or the startup the clerical employees\n",
    "                                    or the attendant staffs will be less compared the technical persons\n",
    "                                    or engineers.So if we plaught a graph of salary(x axis) vs\n",
    "                                    Designation(y axis)as the salary increases the no of employees \n",
    "                                    ie the designation increases.This is Left Skewed.\n",
    "                                    \n",
    "                                    \n",
    "                                    \n",
    "    2.Standard Normal Distribution:-\n",
    "                                \n",
    "                                In Standard Normal Distribution mu(mean)=0 and \n",
    "                                sigma(Standard deviation)=1 Such Kind of Bell-Shaped Curve is called\n",
    "                                Standard Normal Distribution Curve.\n",
    "                                    \n",
    "                                    \n",
    "     3.Binomial Distribution:-\n",
    "                            \n",
    "                                At any given time my previous results are not going to \n",
    "                                impact my next result.Such kind of distribution is called Binomial\n",
    "                                Distribution.\n",
    "                        \n",
    "                                eg:-Tossing a coin.ie,The probability of getting either \n",
    "                                    head or tail in each toss.\n",
    "                                    \n",
    "                                    \n",
    "                        \n",
    "    \n",
    "    "
   ]
  },
  {
   "cell_type": "code",
   "execution_count": 21,
   "metadata": {},
   "outputs": [],
   "source": [
    "#Question No:-2.Create data that dipicts normal distribution with visualization.\n",
    "import numpy as np\n",
    "import pandas as pd\n",
    "import seaborn as sns\n",
    "import matplotlib.pyplot as plt\n",
    "%matplotlib inline\n",
    "sns.set()\n",
    "from numpy.random import randn"
   ]
  },
  {
   "cell_type": "code",
   "execution_count": 22,
   "metadata": {},
   "outputs": [
    {
     "name": "stdout",
     "output_type": "stream",
     "text": [
      "[-1.21608459  2.02106096 -2.53423693  0.49721419 -0.1174104  -0.18492715\n",
      " -1.80141202 -1.15809698 -0.6159982   0.31172457 -0.84412847 -1.11784055\n",
      "  0.39933829 -1.19977589  0.26958395 -0.89922635  0.53140319  2.31535768\n",
      " -0.41944574  0.59296994  0.77007081 -0.36215289 -0.08087005 -2.11497549\n",
      " -1.50368407 -2.21473254 -0.33208548 -0.79696101  1.79095501 -0.83852897\n",
      "  0.96064685 -0.28310216 -1.48414717 -1.4718231  -2.62575731  1.20921354\n",
      "  1.14195137  0.51229094 -0.64140968 -0.82793103 -1.02123321 -0.84118749\n",
      "  1.58866414 -0.75526513 -0.54831978 -0.12105016  0.61616433 -0.78764858\n",
      " -1.25672156 -0.67646052]\n"
     ]
    },
    {
     "data": {
      "text/html": [
       "<div>\n",
       "<style scoped>\n",
       "    .dataframe tbody tr th:only-of-type {\n",
       "        vertical-align: middle;\n",
       "    }\n",
       "\n",
       "    .dataframe tbody tr th {\n",
       "        vertical-align: top;\n",
       "    }\n",
       "\n",
       "    .dataframe thead th {\n",
       "        text-align: right;\n",
       "    }\n",
       "</style>\n",
       "<table border=\"1\" class=\"dataframe\">\n",
       "  <thead>\n",
       "    <tr style=\"text-align: right;\">\n",
       "      <th></th>\n",
       "      <th>0</th>\n",
       "    </tr>\n",
       "  </thead>\n",
       "  <tbody>\n",
       "    <tr>\n",
       "      <th>count</th>\n",
       "      <td>50.000000</td>\n",
       "    </tr>\n",
       "    <tr>\n",
       "      <th>mean</th>\n",
       "      <td>-0.363320</td>\n",
       "    </tr>\n",
       "    <tr>\n",
       "      <th>std</th>\n",
       "      <td>1.133644</td>\n",
       "    </tr>\n",
       "    <tr>\n",
       "      <th>min</th>\n",
       "      <td>-2.625757</td>\n",
       "    </tr>\n",
       "    <tr>\n",
       "      <th>25%</th>\n",
       "      <td>-1.093689</td>\n",
       "    </tr>\n",
       "    <tr>\n",
       "      <th>50%</th>\n",
       "      <td>-0.582159</td>\n",
       "    </tr>\n",
       "    <tr>\n",
       "      <th>75%</th>\n",
       "      <td>0.472745</td>\n",
       "    </tr>\n",
       "    <tr>\n",
       "      <th>max</th>\n",
       "      <td>2.315358</td>\n",
       "    </tr>\n",
       "  </tbody>\n",
       "</table>\n",
       "</div>"
      ],
      "text/plain": [
       "               0\n",
       "count  50.000000\n",
       "mean   -0.363320\n",
       "std     1.133644\n",
       "min    -2.625757\n",
       "25%    -1.093689\n",
       "50%    -0.582159\n",
       "75%     0.472745\n",
       "max     2.315358"
      ]
     },
     "execution_count": 22,
     "metadata": {},
     "output_type": "execute_result"
    }
   ],
   "source": [
    "x=randn(50)\n",
    "print(x)\n",
    "df=pd.DataFrame(x)\n",
    "df.describe()"
   ]
  },
  {
   "cell_type": "code",
   "execution_count": 23,
   "metadata": {},
   "outputs": [
    {
     "data": {
      "text/plain": [
       "<matplotlib.axes._subplots.AxesSubplot at 0x26122ab1308>"
      ]
     },
     "execution_count": 23,
     "metadata": {},
     "output_type": "execute_result"
    },
    {
     "data": {
      "image/png": "[encoded data removed]",
      "text/plain": [
       "<Figure size 432x288 with 1 Axes>"
      ]
     },
     "metadata": {},
     "output_type": "display_data"
    }
   ],
   "source": [
    "sns.distplot(x,kde=True,hist=False,rug=False,bins=100)"
   ]
  },
  {
   "cell_type": "code",
   "execution_count": null,
   "metadata": {},
   "outputs": [],
   "source": [
    "#Question No:-3.Explain types of variables with clear examples.\n",
    "Types of Variables:-\n",
    "                    1.Numerical\n",
    "                    2.Categorical\n",
    "            \n",
    "                        1.Numerical:-\n",
    "                    \n",
    "                                    a)Continuous means numbers are not limited they are continuous.\n",
    "                                        eg:-1.Age-10,20,30,40,41,42,43,47.....etc\n",
    "                                            2.Salary-2L,3L,4L,5L,5.2L,5.3L,6.5L....etc\n",
    "                                            3.Marks-1,2,3,4,30,35,35.2,35.3,35.75....etc\n",
    "                                    b)Descrete data are  limited in nature\n",
    "                                        eg:1.Shoe Size-5size,6size,7size but not 5.1 or 5.2 or 5.3 size\n",
    "                                           2.Ranks-1st,2nd,3rd....etc not 1.1 rank or 2.2 or 3.5 rank \n",
    "                                        \n",
    "                        2.Categorical(String):-\n",
    "                            \n",
    "                                    a)Ordinal is in the form of order\n",
    "                                        eg:-Rating-1Rating,2Rating,3Rating and so on....\n",
    "                                            Education Level-10th,Puc,Degree,Masters,Phd and so on...\n",
    "                                            \n",
    "                                     b)Nominal is nothing but name sake\n",
    "                                        eg:-Gender-Male and Female\n",
    "                                            Shoe Brands-Adidas,Nike,Reeboke\n",
    "                                            Laptops-Dell,HP,Compaq\n",
    "                            "
   ]
  }
 ],
 "metadata": {
  "kernelspec": {
   "display_name": "Python 3",
   "language": "python",
   "name": "python3"
  },
  "language_info": {
   "codemirror_mode": {
    "name": "ipython",
    "version": 3
   },
   "file_extension": ".py",
   "mimetype": "text/x-python",
   "name": "python",
   "nbconvert_exporter": "python",
   "pygments_lexer": "ipython3",
   "version": "3.7.6"
  }
 },
 "nbformat": 4,
 "nbformat_minor": 4
}
