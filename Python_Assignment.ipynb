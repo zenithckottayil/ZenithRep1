{
 "cells": [
  {
   "cell_type": "code",
   "execution_count": 1,
   "metadata": {},
   "outputs": [
    {
     "name": "stdout",
     "output_type": "stream",
     "text": [
      "**************************************************\n",
      "\n",
      "\n",
      "Bedroom: \n",
      " \t--->| Lights brand: Philips\n",
      " \t--->| Fan brand: Usha\n",
      " \t--->| How many bedrooms: 2.0\n",
      "Kitchen: \n",
      " \t--->| Burner Company: Prestige\n",
      " \t--->| How many sinks: 2.0\n",
      "Hall: \n",
      " \t--->| TV brand: Sony\n",
      "Bathroom: \n",
      " \t--->| Shower brand: Kohler\n",
      " \t--->| Sink Type: Granite Sink\n",
      "\n",
      "\n",
      "**************************************************\n"
     ]
    }
   ],
   "source": [
    "class Bedroom:\n",
    "    def __init__(self,Lights_brand,Fan_brand,How_many_bedrooms):\n",
    "        self.Lights_brand=Lights_brand\n",
    "        self.Fan_brand=Fan_brand\n",
    "        self.How_many_bedrooms=How_many_bedrooms\n",
    "        \n",
    "    def __str__(self):\n",
    "        return(\"Bedroom: \\n \\t--->| Lights brand: \"+self.Lights_brand+\n",
    "              \"\\n \\t--->| Fan brand: \"+str(self.Fan_brand)+\n",
    "              \"\\n \\t--->| How many bedrooms: \"+str(self.How_many_bedrooms))\n",
    "    \n",
    "class Kitchen:    \n",
    "    def __init__(self,Burner_Company,How_many_sinks):\n",
    "        self.Burner_Company=Burner_Company\n",
    "        self.How_many_sinks=How_many_sinks\n",
    "        \n",
    "    def __str__(self):\n",
    "        return(\"Kitchen: \\n \\t--->| Burner Company: \"+self.Burner_Company+\n",
    "              \"\\n \\t--->| How many sinks: \"+str(self.How_many_sinks))\n",
    "    \n",
    "class Hall:   \n",
    "    def __init__(self,TV_brand):\n",
    "        self.TV_brand=TV_brand\n",
    "                \n",
    "    def __str__(self):\n",
    "        return(\"Hall: \\n \\t--->| TV brand: \"+self.TV_brand)\n",
    "    \n",
    "class Bathroom:    \n",
    "    def __init__(self,Shower_brand,Sink_Type):\n",
    "        self.Shower_brand=Shower_brand\n",
    "        self.Sink_Type=Sink_Type\n",
    "        \n",
    "    def __str__(self):\n",
    "        return(\"Bathroom: \\n \\t--->| Shower brand: \"+self.Shower_brand+\n",
    "              \"\\n \\t--->| Sink Type: \"+self.Sink_Type)\n",
    "    \n",
    "class Home:\n",
    "    def __init__(self,bedroom,kitchen,hall,bathroom):\n",
    "        self.bedroom=bedroom\n",
    "        self.kitchen=kitchen\n",
    "        self.hall=hall\n",
    "        self.bathroom=bathroom\n",
    "        \n",
    "    def __str__(self):\n",
    "        return str(self.bedroom)+\"\\n\"+str(self.kitchen)+\"\\n\"+str(self.hall)+\"\\n\"+str(self.bathroom)\n",
    "    \n",
    "    \n",
    "BR=Bedroom(\"Philips\",\"Usha\",2.0)\n",
    "KT=Kitchen(\"Prestige\",2.0)\n",
    "HA=Hall(\"Sony\")\n",
    "BT=Bathroom(\"Kohler\",\"Granite Sink\")\n",
    "HM=Home(BR,KT,HA,BT)\n",
    "print(\"*\"*50)\n",
    "print(\"\\n\")\n",
    "print(HM)\n",
    "print(\"\\n\")\n",
    "print(\"*\"*50)\n"
   ]
  },
  {
   "cell_type": "code",
   "execution_count": null,
   "metadata": {},
   "outputs": [],
   "source": []
  }
 ],
 "metadata": {
  "kernelspec": {
   "display_name": "Python 3",
   "language": "python",
   "name": "python3"
  },
  "language_info": {
   "codemirror_mode": {
    "name": "ipython",
    "version": 3
   },
   "file_extension": ".py",
   "mimetype": "text/x-python",
   "name": "python",
   "nbconvert_exporter": "python",
   "pygments_lexer": "ipython3",
   "version": "3.7.6"
  }
 },
 "nbformat": 4,
 "nbformat_minor": 4
}
